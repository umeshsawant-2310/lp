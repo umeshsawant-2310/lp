{
 "cells": [
  {
   "cell_type": "code",
   "execution_count": 4,
   "id": "80aa825a",
   "metadata": {},
   "outputs": [],
   "source": [
    "import pandas as pd \n",
    "import numpy as np\n",
    "import matplotlib.pyplot as plt"
   ]
  },
  {
   "cell_type": "code",
   "execution_count": 5,
   "id": "fccf290a",
   "metadata": {},
   "outputs": [
    {
     "data": {
      "text/html": [
       "<div>\n",
       "<style scoped>\n",
       "    .dataframe tbody tr th:only-of-type {\n",
       "        vertical-align: middle;\n",
       "    }\n",
       "\n",
       "    .dataframe tbody tr th {\n",
       "        vertical-align: top;\n",
       "    }\n",
       "\n",
       "    .dataframe thead th {\n",
       "        text-align: right;\n",
       "    }\n",
       "</style>\n",
       "<table border=\"1\" class=\"dataframe\">\n",
       "  <thead>\n",
       "    <tr style=\"text-align: right;\">\n",
       "      <th></th>\n",
       "      <th>Date</th>\n",
       "      <th>Open</th>\n",
       "      <th>High</th>\n",
       "      <th>Low</th>\n",
       "      <th>Close</th>\n",
       "      <th>Volume</th>\n",
       "    </tr>\n",
       "  </thead>\n",
       "  <tbody>\n",
       "    <tr>\n",
       "      <th>0</th>\n",
       "      <td>1/3/2012</td>\n",
       "      <td>325.25</td>\n",
       "      <td>332.83</td>\n",
       "      <td>324.97</td>\n",
       "      <td>663.59</td>\n",
       "      <td>7,380,500</td>\n",
       "    </tr>\n",
       "    <tr>\n",
       "      <th>1</th>\n",
       "      <td>1/4/2012</td>\n",
       "      <td>331.27</td>\n",
       "      <td>333.87</td>\n",
       "      <td>329.08</td>\n",
       "      <td>666.45</td>\n",
       "      <td>5,749,400</td>\n",
       "    </tr>\n",
       "    <tr>\n",
       "      <th>2</th>\n",
       "      <td>1/5/2012</td>\n",
       "      <td>329.83</td>\n",
       "      <td>330.75</td>\n",
       "      <td>326.89</td>\n",
       "      <td>657.21</td>\n",
       "      <td>6,590,300</td>\n",
       "    </tr>\n",
       "    <tr>\n",
       "      <th>3</th>\n",
       "      <td>1/6/2012</td>\n",
       "      <td>328.34</td>\n",
       "      <td>328.77</td>\n",
       "      <td>323.68</td>\n",
       "      <td>648.24</td>\n",
       "      <td>5,405,900</td>\n",
       "    </tr>\n",
       "    <tr>\n",
       "      <th>4</th>\n",
       "      <td>1/9/2012</td>\n",
       "      <td>322.04</td>\n",
       "      <td>322.29</td>\n",
       "      <td>309.46</td>\n",
       "      <td>620.76</td>\n",
       "      <td>11,688,800</td>\n",
       "    </tr>\n",
       "  </tbody>\n",
       "</table>\n",
       "</div>"
      ],
      "text/plain": [
       "       Date    Open    High     Low   Close      Volume\n",
       "0  1/3/2012  325.25  332.83  324.97  663.59   7,380,500\n",
       "1  1/4/2012  331.27  333.87  329.08  666.45   5,749,400\n",
       "2  1/5/2012  329.83  330.75  326.89  657.21   6,590,300\n",
       "3  1/6/2012  328.34  328.77  323.68  648.24   5,405,900\n",
       "4  1/9/2012  322.04  322.29  309.46  620.76  11,688,800"
      ]
     },
     "execution_count": 5,
     "metadata": {},
     "output_type": "execute_result"
    }
   ],
   "source": [
    "train_df=pd.read_csv(\"Google_Stock_Price_Train.csv\")\n",
    "train_df.head()"
   ]
  },
  {
   "cell_type": "code",
   "execution_count": 8,
   "id": "caa8e793",
   "metadata": {},
   "outputs": [
    {
     "data": {
      "text/html": [
       "<div>\n",
       "<style scoped>\n",
       "    .dataframe tbody tr th:only-of-type {\n",
       "        vertical-align: middle;\n",
       "    }\n",
       "\n",
       "    .dataframe tbody tr th {\n",
       "        vertical-align: top;\n",
       "    }\n",
       "\n",
       "    .dataframe thead th {\n",
       "        text-align: right;\n",
       "    }\n",
       "</style>\n",
       "<table border=\"1\" class=\"dataframe\">\n",
       "  <thead>\n",
       "    <tr style=\"text-align: right;\">\n",
       "      <th></th>\n",
       "      <th>Date</th>\n",
       "      <th>Open</th>\n",
       "      <th>High</th>\n",
       "      <th>Low</th>\n",
       "      <th>Close</th>\n",
       "      <th>Volume</th>\n",
       "    </tr>\n",
       "  </thead>\n",
       "  <tbody>\n",
       "    <tr>\n",
       "      <th>0</th>\n",
       "      <td>1/3/2017</td>\n",
       "      <td>778.81</td>\n",
       "      <td>789.63</td>\n",
       "      <td>775.80</td>\n",
       "      <td>786.14</td>\n",
       "      <td>1,657,300</td>\n",
       "    </tr>\n",
       "    <tr>\n",
       "      <th>1</th>\n",
       "      <td>1/4/2017</td>\n",
       "      <td>788.36</td>\n",
       "      <td>791.34</td>\n",
       "      <td>783.16</td>\n",
       "      <td>786.90</td>\n",
       "      <td>1,073,000</td>\n",
       "    </tr>\n",
       "    <tr>\n",
       "      <th>2</th>\n",
       "      <td>1/5/2017</td>\n",
       "      <td>786.08</td>\n",
       "      <td>794.48</td>\n",
       "      <td>785.02</td>\n",
       "      <td>794.02</td>\n",
       "      <td>1,335,200</td>\n",
       "    </tr>\n",
       "    <tr>\n",
       "      <th>3</th>\n",
       "      <td>1/6/2017</td>\n",
       "      <td>795.26</td>\n",
       "      <td>807.90</td>\n",
       "      <td>792.20</td>\n",
       "      <td>806.15</td>\n",
       "      <td>1,640,200</td>\n",
       "    </tr>\n",
       "    <tr>\n",
       "      <th>4</th>\n",
       "      <td>1/9/2017</td>\n",
       "      <td>806.40</td>\n",
       "      <td>809.97</td>\n",
       "      <td>802.83</td>\n",
       "      <td>806.65</td>\n",
       "      <td>1,272,400</td>\n",
       "    </tr>\n",
       "  </tbody>\n",
       "</table>\n",
       "</div>"
      ],
      "text/plain": [
       "       Date    Open    High     Low   Close     Volume\n",
       "0  1/3/2017  778.81  789.63  775.80  786.14  1,657,300\n",
       "1  1/4/2017  788.36  791.34  783.16  786.90  1,073,000\n",
       "2  1/5/2017  786.08  794.48  785.02  794.02  1,335,200\n",
       "3  1/6/2017  795.26  807.90  792.20  806.15  1,640,200\n",
       "4  1/9/2017  806.40  809.97  802.83  806.65  1,272,400"
      ]
     },
     "execution_count": 8,
     "metadata": {},
     "output_type": "execute_result"
    }
   ],
   "source": [
    "test_df=pd.read_csv('Google_Stock_Price_Test.csv')\n",
    "test_df.head()"
   ]
  },
  {
   "cell_type": "code",
   "execution_count": 9,
   "id": "70f2858f",
   "metadata": {},
   "outputs": [
    {
     "name": "stdout",
     "output_type": "stream",
     "text": [
      "<class 'pandas.core.frame.DataFrame'>\n",
      "RangeIndex: 1258 entries, 0 to 1257\n",
      "Data columns (total 6 columns):\n",
      " #   Column  Non-Null Count  Dtype  \n",
      "---  ------  --------------  -----  \n",
      " 0   Date    1258 non-null   object \n",
      " 1   Open    1258 non-null   float64\n",
      " 2   High    1258 non-null   float64\n",
      " 3   Low     1258 non-null   float64\n",
      " 4   Close   1258 non-null   object \n",
      " 5   Volume  1258 non-null   object \n",
      "dtypes: float64(3), object(3)\n",
      "memory usage: 59.1+ KB\n"
     ]
    }
   ],
   "source": [
    "train_df.info()"
   ]
  },
  {
   "cell_type": "code",
   "execution_count": 10,
   "id": "dc1ddadb",
   "metadata": {},
   "outputs": [
    {
     "data": {
      "text/html": [
       "<div>\n",
       "<style scoped>\n",
       "    .dataframe tbody tr th:only-of-type {\n",
       "        vertical-align: middle;\n",
       "    }\n",
       "\n",
       "    .dataframe tbody tr th {\n",
       "        vertical-align: top;\n",
       "    }\n",
       "\n",
       "    .dataframe thead th {\n",
       "        text-align: right;\n",
       "    }\n",
       "</style>\n",
       "<table border=\"1\" class=\"dataframe\">\n",
       "  <thead>\n",
       "    <tr style=\"text-align: right;\">\n",
       "      <th></th>\n",
       "      <th>Open</th>\n",
       "      <th>High</th>\n",
       "      <th>Low</th>\n",
       "    </tr>\n",
       "  </thead>\n",
       "  <tbody>\n",
       "    <tr>\n",
       "      <th>count</th>\n",
       "      <td>1258.000000</td>\n",
       "      <td>1258.000000</td>\n",
       "      <td>1258.000000</td>\n",
       "    </tr>\n",
       "    <tr>\n",
       "      <th>mean</th>\n",
       "      <td>533.709833</td>\n",
       "      <td>537.880223</td>\n",
       "      <td>529.007409</td>\n",
       "    </tr>\n",
       "    <tr>\n",
       "      <th>std</th>\n",
       "      <td>151.904442</td>\n",
       "      <td>153.008811</td>\n",
       "      <td>150.552807</td>\n",
       "    </tr>\n",
       "    <tr>\n",
       "      <th>min</th>\n",
       "      <td>279.120000</td>\n",
       "      <td>281.210000</td>\n",
       "      <td>277.220000</td>\n",
       "    </tr>\n",
       "    <tr>\n",
       "      <th>25%</th>\n",
       "      <td>404.115000</td>\n",
       "      <td>406.765000</td>\n",
       "      <td>401.765000</td>\n",
       "    </tr>\n",
       "    <tr>\n",
       "      <th>50%</th>\n",
       "      <td>537.470000</td>\n",
       "      <td>540.750000</td>\n",
       "      <td>532.990000</td>\n",
       "    </tr>\n",
       "    <tr>\n",
       "      <th>75%</th>\n",
       "      <td>654.922500</td>\n",
       "      <td>662.587500</td>\n",
       "      <td>644.800000</td>\n",
       "    </tr>\n",
       "    <tr>\n",
       "      <th>max</th>\n",
       "      <td>816.680000</td>\n",
       "      <td>816.680000</td>\n",
       "      <td>805.140000</td>\n",
       "    </tr>\n",
       "  </tbody>\n",
       "</table>\n",
       "</div>"
      ],
      "text/plain": [
       "              Open         High          Low\n",
       "count  1258.000000  1258.000000  1258.000000\n",
       "mean    533.709833   537.880223   529.007409\n",
       "std     151.904442   153.008811   150.552807\n",
       "min     279.120000   281.210000   277.220000\n",
       "25%     404.115000   406.765000   401.765000\n",
       "50%     537.470000   540.750000   532.990000\n",
       "75%     654.922500   662.587500   644.800000\n",
       "max     816.680000   816.680000   805.140000"
      ]
     },
     "execution_count": 10,
     "metadata": {},
     "output_type": "execute_result"
    }
   ],
   "source": [
    "train_df.describe()"
   ]
  },
  {
   "cell_type": "code",
   "execution_count": 15,
   "id": "44ec468c",
   "metadata": {},
   "outputs": [
    {
     "data": {
      "text/plain": [
       "array([[325.25],\n",
       "       [331.27],\n",
       "       [329.83],\n",
       "       ...,\n",
       "       [793.7 ],\n",
       "       [783.33],\n",
       "       [782.75]])"
      ]
     },
     "execution_count": 15,
     "metadata": {},
     "output_type": "execute_result"
    }
   ],
   "source": [
    "train=train_df.loc[:,['Open']].values\n",
    "train"
   ]
  },
  {
   "cell_type": "code",
   "execution_count": 16,
   "id": "3226c446",
   "metadata": {},
   "outputs": [],
   "source": [
    "from sklearn.preprocessing import MinMaxScaler\n",
    "scaler=MinMaxScaler()\n",
    "train_scaled=scaler.fit_transform(train)"
   ]
  },
  {
   "cell_type": "code",
   "execution_count": 18,
   "id": "051f73e9",
   "metadata": {},
   "outputs": [
    {
     "data": {
      "image/png": "[encoded data removed]",
      "text/plain": [
       "<Figure size 720x720 with 1 Axes>"
      ]
     },
     "metadata": {
      "needs_background": "light"
     },
     "output_type": "display_data"
    }
   ],
   "source": [
    "plt.figure(figsize=(10,10))\n",
    "plt.plot(train_scaled)\n",
    "plt.ylabel(\"Standardized_value\")\n",
    "plt.xlabel(\"Time\")\n",
    "plt.show()"
   ]
  },
  {
   "cell_type": "code",
   "execution_count": 20,
   "id": "0a3196ce",
   "metadata": {},
   "outputs": [],
   "source": [
    "x_train=[]\n",
    "y_train=[]\n",
    "time=60\n",
    "for i in range(time,train_scaled.shape[0]):\n",
    "    x_train.append(train_scaled[i-time:i,0])\n",
    "    y_train.append(train_scaled[i,0])\n",
    "x_train=np.array(x_train)\n",
    "y_train=np.array(y_train)"
   ]
  },
  {
   "cell_type": "code",
   "execution_count": 21,
   "id": "39a3e44c",
   "metadata": {},
   "outputs": [
    {
     "data": {
      "text/plain": [
       "(1198, 60)"
      ]
     },
     "execution_count": 21,
     "metadata": {},
     "output_type": "execute_result"
    }
   ],
   "source": [
    "x_train.shape"
   ]
  },
  {
   "cell_type": "code",
   "execution_count": 22,
   "id": "2117cc78",
   "metadata": {},
   "outputs": [
    {
     "data": {
      "text/plain": [
       "(1198, 60, 1)"
      ]
     },
     "execution_count": 22,
     "metadata": {},
     "output_type": "execute_result"
    }
   ],
   "source": [
    "x_train=np.reshape(x_train, newshape=(x_train.shape[0],x_train.shape[1],1))\n",
    "x_train.shape"
   ]
  },
  {
   "cell_type": "code",
   "execution_count": 23,
   "id": "1a75d510",
   "metadata": {},
   "outputs": [],
   "source": [
    "from keras.models import Sequential\n",
    "from keras.layers import LSTM,Dense"
   ]
  },
  {
   "cell_type": "code",
   "execution_count": 25,
   "id": "2031e34a",
   "metadata": {},
   "outputs": [
    {
     "name": "stdout",
     "output_type": "stream",
     "text": [
      "Model: \"sequential_1\"\n",
      "_________________________________________________________________\n",
      " Layer (type)                Output Shape              Param #   \n",
      "=================================================================\n",
      " lstm_2 (LSTM)               (None, 60, 50)            10400     \n",
      "                                                                 \n",
      " lstm_3 (LSTM)               (None, 50)                20200     \n",
      "                                                                 \n",
      " dense (Dense)               (None, 1)                 51        \n",
      "                                                                 \n",
      "=================================================================\n",
      "Total params: 30,651\n",
      "Trainable params: 30,651\n",
      "Non-trainable params: 0\n",
      "_________________________________________________________________\n"
     ]
    }
   ],
   "source": [
    "model=Sequential()\n",
    "model.add(LSTM(units=50,return_sequences=True,input_shape=(x_train.shape[1],1)))\n",
    "model.add(LSTM(units=50))\n",
    "model.add(Dense(units=1))\n",
    "model.compile(optimizer='adam',loss='mean_squared_error')\n",
    "model.summary()"
   ]
  },
  {
   "cell_type": "code",
   "execution_count": 26,
   "id": "7acb646c",
   "metadata": {},
   "outputs": [
    {
     "name": "stdout",
     "output_type": "stream",
     "text": [
      "Epoch 1/100\n",
      "4/4 [==============================] - 7s 690ms/step - loss: 0.2157 - val_loss: 0.3030\n",
      "Epoch 2/100\n",
      "4/4 [==============================] - 1s 259ms/step - loss: 0.0474 - val_loss: 0.0010\n",
      "Epoch 3/100\n",
      "4/4 [==============================] - 1s 226ms/step - loss: 0.0242 - val_loss: 0.0212\n",
      "Epoch 4/100\n",
      "4/4 [==============================] - 1s 263ms/step - loss: 0.0127 - val_loss: 0.0158\n",
      "Epoch 5/100\n",
      "4/4 [==============================] - 1s 311ms/step - loss: 0.0083 - val_loss: 0.0499\n",
      "Epoch 6/100\n",
      "4/4 [==============================] - 1s 288ms/step - loss: 0.0120 - val_loss: 0.0313\n",
      "Epoch 7/100\n",
      "4/4 [==============================] - 1s 326ms/step - loss: 0.0057 - val_loss: 0.0036\n",
      "Epoch 8/100\n",
      "4/4 [==============================] - 1s 176ms/step - loss: 0.0044 - val_loss: 0.0016\n",
      "Epoch 9/100\n",
      "4/4 [==============================] - 1s 217ms/step - loss: 0.0049 - val_loss: 0.0012\n",
      "Epoch 10/100\n",
      "4/4 [==============================] - 1s 288ms/step - loss: 0.0025 - val_loss: 0.0069\n",
      "Epoch 11/100\n",
      "4/4 [==============================] - 1s 309ms/step - loss: 0.0028 - val_loss: 0.0067\n",
      "Epoch 12/100\n",
      "4/4 [==============================] - 1s 292ms/step - loss: 0.0020 - val_loss: 0.0014\n",
      "Epoch 13/100\n",
      "4/4 [==============================] - 1s 264ms/step - loss: 0.0015 - val_loss: 0.0013\n",
      "Epoch 14/100\n",
      "4/4 [==============================] - 1s 206ms/step - loss: 0.0015 - val_loss: 9.4017e-04\n",
      "Epoch 15/100\n",
      "4/4 [==============================] - 1s 199ms/step - loss: 0.0012 - val_loss: 0.0013\n",
      "Epoch 16/100\n",
      "4/4 [==============================] - 1s 184ms/step - loss: 0.0012 - val_loss: 9.9570e-04\n",
      "Epoch 17/100\n",
      "4/4 [==============================] - 1s 247ms/step - loss: 0.0011 - val_loss: 0.0012\n",
      "Epoch 18/100\n",
      "4/4 [==============================] - 1s 220ms/step - loss: 0.0011 - val_loss: 0.0012\n",
      "Epoch 19/100\n",
      "4/4 [==============================] - 1s 239ms/step - loss: 0.0011 - val_loss: 9.5865e-04\n",
      "Epoch 20/100\n",
      "4/4 [==============================] - 1s 248ms/step - loss: 0.0011 - val_loss: 9.4678e-04\n",
      "Epoch 21/100\n",
      "4/4 [==============================] - 1s 274ms/step - loss: 0.0011 - val_loss: 0.0011\n",
      "Epoch 22/100\n",
      "4/4 [==============================] - 1s 284ms/step - loss: 0.0011 - val_loss: 0.0011\n",
      "Epoch 23/100\n",
      "4/4 [==============================] - 1s 286ms/step - loss: 0.0011 - val_loss: 9.3421e-04\n",
      "Epoch 24/100\n",
      "4/4 [==============================] - 1s 206ms/step - loss: 0.0011 - val_loss: 9.3138e-04\n",
      "Epoch 25/100\n",
      "4/4 [==============================] - 1s 212ms/step - loss: 0.0011 - val_loss: 9.7483e-04\n",
      "Epoch 26/100\n",
      "4/4 [==============================] - 1s 267ms/step - loss: 0.0011 - val_loss: 9.5471e-04\n",
      "Epoch 27/100\n",
      "4/4 [==============================] - 1s 232ms/step - loss: 0.0011 - val_loss: 9.2425e-04\n",
      "Epoch 28/100\n",
      "4/4 [==============================] - 1s 235ms/step - loss: 0.0011 - val_loss: 9.2216e-04\n",
      "Epoch 29/100\n",
      "4/4 [==============================] - 1s 222ms/step - loss: 0.0011 - val_loss: 9.4090e-04\n",
      "Epoch 30/100\n",
      "4/4 [==============================] - 1s 265ms/step - loss: 0.0011 - val_loss: 9.1777e-04\n",
      "Epoch 31/100\n",
      "4/4 [==============================] - 1s 284ms/step - loss: 0.0011 - val_loss: 9.2196e-04\n",
      "Epoch 32/100\n",
      "4/4 [==============================] - 1s 220ms/step - loss: 0.0011 - val_loss: 9.2871e-04\n",
      "Epoch 33/100\n",
      "4/4 [==============================] - 1s 214ms/step - loss: 0.0011 - val_loss: 9.2768e-04\n",
      "Epoch 34/100\n",
      "4/4 [==============================] - 1s 262ms/step - loss: 0.0010 - val_loss: 9.1122e-04\n",
      "Epoch 35/100\n",
      "4/4 [==============================] - 1s 246ms/step - loss: 0.0011 - val_loss: 9.0945e-04\n",
      "Epoch 36/100\n",
      "4/4 [==============================] - 1s 255ms/step - loss: 0.0010 - val_loss: 9.4714e-04\n",
      "Epoch 37/100\n",
      "4/4 [==============================] - 1s 281ms/step - loss: 0.0010 - val_loss: 9.0926e-04\n",
      "Epoch 38/100\n",
      "4/4 [==============================] - 1s 280ms/step - loss: 0.0010 - val_loss: 9.0486e-04\n",
      "Epoch 39/100\n",
      "4/4 [==============================] - 1s 300ms/step - loss: 0.0010 - val_loss: 9.1655e-04\n",
      "Epoch 40/100\n",
      "4/4 [==============================] - 1s 210ms/step - loss: 0.0010 - val_loss: 9.0137e-04\n",
      "Epoch 41/100\n",
      "4/4 [==============================] - 1s 303ms/step - loss: 0.0010 - val_loss: 8.9780e-04\n",
      "Epoch 42/100\n",
      "4/4 [==============================] - 1s 212ms/step - loss: 0.0010 - val_loss: 9.0386e-04\n",
      "Epoch 43/100\n",
      "4/4 [==============================] - 1s 207ms/step - loss: 0.0010 - val_loss: 8.9466e-04\n",
      "Epoch 44/100\n",
      "4/4 [==============================] - 1s 278ms/step - loss: 0.0010 - val_loss: 8.9431e-04\n",
      "Epoch 45/100\n",
      "4/4 [==============================] - 1s 259ms/step - loss: 0.0010 - val_loss: 8.9011e-04\n",
      "Epoch 46/100\n",
      "4/4 [==============================] - 1s 282ms/step - loss: 0.0010 - val_loss: 8.8736e-04\n",
      "Epoch 47/100\n",
      "4/4 [==============================] - 1s 326ms/step - loss: 0.0010 - val_loss: 8.9817e-04\n",
      "Epoch 48/100\n",
      "4/4 [==============================] - 1s 288ms/step - loss: 0.0010 - val_loss: 8.8694e-04\n",
      "Epoch 49/100\n",
      "4/4 [==============================] - 1s 289ms/step - loss: 9.9937e-04 - val_loss: 8.8085e-04\n",
      "Epoch 50/100\n",
      "4/4 [==============================] - 1s 358ms/step - loss: 9.9724e-04 - val_loss: 8.9098e-04\n",
      "Epoch 51/100\n",
      "4/4 [==============================] - 1s 336ms/step - loss: 9.9171e-04 - val_loss: 8.8920e-04\n",
      "Epoch 52/100\n",
      "4/4 [==============================] - 1s 341ms/step - loss: 9.9010e-04 - val_loss: 8.7458e-04\n",
      "Epoch 53/100\n",
      "4/4 [==============================] - 1s 349ms/step - loss: 9.8437e-04 - val_loss: 8.7315e-04\n",
      "Epoch 54/100\n",
      "4/4 [==============================] - 1s 361ms/step - loss: 9.8008e-04 - val_loss: 8.8778e-04\n",
      "Epoch 55/100\n",
      "4/4 [==============================] - 1s 324ms/step - loss: 9.7909e-04 - val_loss: 8.7432e-04\n",
      "Epoch 56/100\n",
      "4/4 [==============================] - 1s 343ms/step - loss: 9.7036e-04 - val_loss: 8.7695e-04\n",
      "Epoch 57/100\n",
      "4/4 [==============================] - 1s 342ms/step - loss: 9.6669e-04 - val_loss: 8.7223e-04\n",
      "Epoch 58/100\n",
      "4/4 [==============================] - 1s 339ms/step - loss: 9.6616e-04 - val_loss: 8.6355e-04\n",
      "Epoch 59/100\n",
      "4/4 [==============================] - 1s 320ms/step - loss: 9.5996e-04 - val_loss: 8.7777e-04\n",
      "Epoch 60/100\n",
      "4/4 [==============================] - 1s 344ms/step - loss: 9.5566e-04 - val_loss: 8.6031e-04\n",
      "Epoch 61/100\n",
      "4/4 [==============================] - 1s 281ms/step - loss: 9.5018e-04 - val_loss: 8.7144e-04\n",
      "Epoch 62/100\n",
      "4/4 [==============================] - 1s 291ms/step - loss: 9.5771e-04 - val_loss: 8.7003e-04\n",
      "Epoch 63/100\n",
      "4/4 [==============================] - 1s 306ms/step - loss: 9.4988e-04 - val_loss: 8.5946e-04\n",
      "Epoch 64/100\n",
      "4/4 [==============================] - 1s 345ms/step - loss: 9.4292e-04 - val_loss: 9.0773e-04\n",
      "Epoch 65/100\n",
      "4/4 [==============================] - 1s 334ms/step - loss: 9.3913e-04 - val_loss: 8.5761e-04\n",
      "Epoch 66/100\n",
      "4/4 [==============================] - 1s 347ms/step - loss: 9.3661e-04 - val_loss: 8.6575e-04\n",
      "Epoch 67/100\n",
      "4/4 [==============================] - 1s 316ms/step - loss: 9.3437e-04 - val_loss: 8.9072e-04\n",
      "Epoch 68/100\n",
      "4/4 [==============================] - 1s 334ms/step - loss: 9.3303e-04 - val_loss: 8.5127e-04\n",
      "Epoch 69/100\n",
      "4/4 [==============================] - 1s 288ms/step - loss: 9.2977e-04 - val_loss: 9.1543e-04\n",
      "Epoch 70/100\n",
      "4/4 [==============================] - 1s 302ms/step - loss: 9.3183e-04 - val_loss: 8.4754e-04\n",
      "Epoch 71/100\n",
      "4/4 [==============================] - 1s 308ms/step - loss: 9.3167e-04 - val_loss: 9.1459e-04\n",
      "Epoch 72/100\n",
      "4/4 [==============================] - 1s 290ms/step - loss: 9.1752e-04 - val_loss: 8.4696e-04\n",
      "Epoch 73/100\n",
      "4/4 [==============================] - 1s 345ms/step - loss: 9.1310e-04 - val_loss: 9.3515e-04\n",
      "Epoch 74/100\n",
      "4/4 [==============================] - 1s 358ms/step - loss: 9.1814e-04 - val_loss: 8.4577e-04\n",
      "Epoch 75/100\n",
      "4/4 [==============================] - 1s 337ms/step - loss: 9.1035e-04 - val_loss: 8.5227e-04\n",
      "Epoch 76/100\n",
      "4/4 [==============================] - 1s 323ms/step - loss: 9.1228e-04 - val_loss: 8.7571e-04\n",
      "Epoch 77/100\n",
      "4/4 [==============================] - 1s 320ms/step - loss: 8.9788e-04 - val_loss: 8.3776e-04\n",
      "Epoch 78/100\n",
      "4/4 [==============================] - 1s 277ms/step - loss: 8.9784e-04 - val_loss: 9.0258e-04\n",
      "Epoch 79/100\n"
     ]
    },
    {
     "name": "stdout",
     "output_type": "stream",
     "text": [
      "4/4 [==============================] - 1s 332ms/step - loss: 8.9938e-04 - val_loss: 8.3716e-04\n",
      "Epoch 80/100\n",
      "4/4 [==============================] - 1s 348ms/step - loss: 8.9552e-04 - val_loss: 8.5809e-04\n",
      "Epoch 81/100\n",
      "4/4 [==============================] - 1s 344ms/step - loss: 8.8962e-04 - val_loss: 8.7425e-04\n",
      "Epoch 82/100\n",
      "4/4 [==============================] - 1s 341ms/step - loss: 8.8802e-04 - val_loss: 8.3719e-04\n",
      "Epoch 83/100\n",
      "4/4 [==============================] - 1s 336ms/step - loss: 8.8456e-04 - val_loss: 8.6350e-04\n",
      "Epoch 84/100\n",
      "4/4 [==============================] - 1s 307ms/step - loss: 8.7966e-04 - val_loss: 8.2997e-04\n",
      "Epoch 85/100\n",
      "4/4 [==============================] - 1s 297ms/step - loss: 8.9000e-04 - val_loss: 8.7113e-04\n",
      "Epoch 86/100\n",
      "4/4 [==============================] - 1s 231ms/step - loss: 8.9535e-04 - val_loss: 8.6891e-04\n",
      "Epoch 87/100\n",
      "4/4 [==============================] - 1s 240ms/step - loss: 8.8870e-04 - val_loss: 8.2233e-04\n",
      "Epoch 88/100\n",
      "4/4 [==============================] - 1s 276ms/step - loss: 8.7613e-04 - val_loss: 9.2216e-04\n",
      "Epoch 89/100\n",
      "4/4 [==============================] - 1s 355ms/step - loss: 8.7256e-04 - val_loss: 8.1697e-04\n",
      "Epoch 90/100\n",
      "4/4 [==============================] - 1s 338ms/step - loss: 8.7337e-04 - val_loss: 8.7931e-04\n",
      "Epoch 91/100\n",
      "4/4 [==============================] - 1s 329ms/step - loss: 8.6432e-04 - val_loss: 8.1571e-04\n",
      "Epoch 92/100\n",
      "4/4 [==============================] - 1s 337ms/step - loss: 8.6372e-04 - val_loss: 9.1462e-04\n",
      "Epoch 93/100\n",
      "4/4 [==============================] - 1s 337ms/step - loss: 8.6443e-04 - val_loss: 8.1314e-04\n",
      "Epoch 94/100\n",
      "4/4 [==============================] - 1s 318ms/step - loss: 8.5563e-04 - val_loss: 8.5621e-04\n",
      "Epoch 95/100\n",
      "4/4 [==============================] - 1s 314ms/step - loss: 8.5379e-04 - val_loss: 8.2206e-04\n",
      "Epoch 96/100\n",
      "4/4 [==============================] - 1s 346ms/step - loss: 8.5220e-04 - val_loss: 8.2570e-04\n",
      "Epoch 97/100\n",
      "4/4 [==============================] - 1s 339ms/step - loss: 8.5256e-04 - val_loss: 8.3527e-04\n",
      "Epoch 98/100\n",
      "4/4 [==============================] - 1s 340ms/step - loss: 8.6033e-04 - val_loss: 8.1486e-04\n",
      "Epoch 99/100\n",
      "4/4 [==============================] - 1s 332ms/step - loss: 8.4647e-04 - val_loss: 8.2347e-04\n",
      "Epoch 100/100\n",
      "4/4 [==============================] - 1s 263ms/step - loss: 8.4109e-04 - val_loss: 8.2009e-04\n"
     ]
    },
    {
     "data": {
      "text/plain": [
       "<keras.callbacks.History at 0x22c00069160>"
      ]
     },
     "execution_count": 26,
     "metadata": {},
     "output_type": "execute_result"
    }
   ],
   "source": [
    "model.fit(x_train,y_train,epochs=100,batch_size=300,validation_split=0.05)"
   ]
  },
  {
   "cell_type": "code",
   "execution_count": 27,
   "id": "8df60750",
   "metadata": {},
   "outputs": [],
   "source": [
    "data=pd.concat((train_df['Open'],test_df['Open']),axis=0)\n",
    "test_input=data.iloc[len(data)-len(test_df)-time:].values"
   ]
  },
  {
   "cell_type": "code",
   "execution_count": 28,
   "id": "c86414a4",
   "metadata": {},
   "outputs": [
    {
     "data": {
      "text/plain": [
       "(80,)"
      ]
     },
     "execution_count": 28,
     "metadata": {},
     "output_type": "execute_result"
    }
   ],
   "source": [
    "test_input.shape"
   ]
  },
  {
   "cell_type": "code",
   "execution_count": 29,
   "id": "c55904a9",
   "metadata": {},
   "outputs": [
    {
     "data": {
      "text/plain": [
       "(80, 1)"
      ]
     },
     "execution_count": 29,
     "metadata": {},
     "output_type": "execute_result"
    }
   ],
   "source": [
    "test_input=test_input.reshape(-1,1)\n",
    "test_input.shape"
   ]
  },
  {
   "cell_type": "code",
   "execution_count": 31,
   "id": "d94601a7",
   "metadata": {},
   "outputs": [],
   "source": [
    "test_scaled=scaler.transform(test_input)"
   ]
  },
  {
   "cell_type": "code",
   "execution_count": 32,
   "id": "5865dcae",
   "metadata": {},
   "outputs": [],
   "source": [
    "x_test=[]\n",
    "for i in range(time,test_scaled.shape[0]):\n",
    "    x_test.append(test_scaled[i-time:i,0])"
   ]
  },
  {
   "cell_type": "code",
   "execution_count": 33,
   "id": "9d0c5a78",
   "metadata": {},
   "outputs": [
    {
     "data": {
      "text/plain": [
       "array([[0.9299055 , 0.93113327, 0.92750577, ..., 0.95725128, 0.93796041,\n",
       "        0.93688146],\n",
       "       [0.93113327, 0.92750577, 0.94415507, ..., 0.93796041, 0.93688146,\n",
       "        0.92955205],\n",
       "       [0.92750577, 0.94415507, 0.93876032, ..., 0.93688146, 0.92955205,\n",
       "        0.94731751],\n",
       "       ...,\n",
       "       [0.96054394, 0.9371419 , 0.92841729, ..., 1.01045465, 1.02407173,\n",
       "        1.03930724],\n",
       "       [0.9371419 , 0.92841729, 0.90804747, ..., 1.02407173, 1.03930724,\n",
       "        1.03354044],\n",
       "       [0.92841729, 0.90804747, 0.8771858 , ..., 1.03930724, 1.03354044,\n",
       "        0.99624228]])"
      ]
     },
     "execution_count": 33,
     "metadata": {},
     "output_type": "execute_result"
    }
   ],
   "source": [
    "x_test=np.array(x_test)\n",
    "x_test"
   ]
  },
  {
   "cell_type": "code",
   "execution_count": 34,
   "id": "f02aa8a8",
   "metadata": {},
   "outputs": [
    {
     "data": {
      "text/plain": [
       "(20, 60)"
      ]
     },
     "execution_count": 34,
     "metadata": {},
     "output_type": "execute_result"
    }
   ],
   "source": [
    "x_test.shape"
   ]
  },
  {
   "cell_type": "code",
   "execution_count": 36,
   "id": "36d951f8",
   "metadata": {},
   "outputs": [
    {
     "data": {
      "text/plain": [
       "(20, 60, 1)"
      ]
     },
     "execution_count": 36,
     "metadata": {},
     "output_type": "execute_result"
    }
   ],
   "source": [
    "x_test=np.reshape(x_test,newshape=(x_test.shape[0],x_test.shape[1],1))\n",
    "x_test.shape"
   ]
  },
  {
   "cell_type": "code",
   "execution_count": 37,
   "id": "d2f60750",
   "metadata": {},
   "outputs": [
    {
     "data": {
      "text/plain": [
       "array([778.81, 788.36, 786.08, 795.26, 806.4 , 807.86, 805.  , 807.14,\n",
       "       807.48, 807.08, 805.81, 805.12, 806.91, 807.25, 822.3 , 829.62,\n",
       "       837.81, 834.71, 814.66, 796.86])"
      ]
     },
     "execution_count": 37,
     "metadata": {},
     "output_type": "execute_result"
    }
   ],
   "source": [
    "y_test=test_df.loc[:,\"Open\"].values\n",
    "y_test"
   ]
  },
  {
   "cell_type": "code",
   "execution_count": 38,
   "id": "9e3eaa7e",
   "metadata": {},
   "outputs": [
    {
     "data": {
      "text/plain": [
       "(20,)"
      ]
     },
     "execution_count": 38,
     "metadata": {},
     "output_type": "execute_result"
    }
   ],
   "source": [
    "y_test.shape"
   ]
  },
  {
   "cell_type": "code",
   "execution_count": 39,
   "id": "3e602136",
   "metadata": {},
   "outputs": [
    {
     "name": "stdout",
     "output_type": "stream",
     "text": [
      "1/1 [==============================] - 0s 47ms/step - loss: 650756.5625\n"
     ]
    }
   ],
   "source": [
    "output=model.evaluate(x_test,y_test)"
   ]
  },
  {
   "cell_type": "code",
   "execution_count": 40,
   "id": "3fe2a6fd",
   "metadata": {},
   "outputs": [
    {
     "name": "stdout",
     "output_type": "stream",
     "text": [
      "1/1 [==============================] - 1s 924ms/step\n"
     ]
    }
   ],
   "source": [
    "y_pred=model.predict(x_test)"
   ]
  },
  {
   "cell_type": "code",
   "execution_count": 41,
   "id": "59d455a6",
   "metadata": {},
   "outputs": [],
   "source": [
    "y_pred=scaler.inverse_transform(y_pred)"
   ]
  },
  {
   "cell_type": "code",
   "execution_count": 42,
   "id": "85ba9764",
   "metadata": {},
   "outputs": [
    {
     "data": {
      "image/png": "[encoded data removed]",
      "text/plain": [
       "<Figure size 432x288 with 1 Axes>"
      ]
     },
     "metadata": {
      "needs_background": "light"
     },
     "output_type": "display_data"
    }
   ],
   "source": [
    "plt.plot(y_test,color='Blue', label=\"Real price\")\n",
    "plt.plot(y_pred, color='green', label='Predicted')\n",
    "plt.show()"
   ]
  },
  {
   "cell_type": "code",
   "execution_count": null,
   "id": "2ea215a0",
   "metadata": {},
   "outputs": [],
   "source": []
  }
 ],
 "metadata": {
  "kernelspec": {
   "display_name": "Python 3 (ipykernel)",
   "language": "python",
   "name": "python3"
  },
  "language_info": {
   "codemirror_mode": {
    "name": "ipython",
    "version": 3
   },
   "file_extension": ".py",
   "mimetype": "text/x-python",
   "name": "python",
   "nbconvert_exporter": "python",
   "pygments_lexer": "ipython3",
   "version": "3.9.7"
  }
 },
 "nbformat": 4,
 "nbformat_minor": 5
}
