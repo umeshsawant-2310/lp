{
 "cells": [
  {
   "cell_type": "code",
   "execution_count": 1,
   "id": "91244f03",
   "metadata": {},
   "outputs": [],
   "source": [
    "import pandas as pd\n",
    "import matplotlib.pyplot as plt\n",
    "import numpy as np"
   ]
  },
  {
   "cell_type": "code",
   "execution_count": 2,
   "id": "90136ac9",
   "metadata": {},
   "outputs": [
    {
     "name": "stdout",
     "output_type": "stream",
     "text": [
      "<class 'pandas.core.frame.DataFrame'>\n",
      "RangeIndex: 1258 entries, 0 to 1257\n",
      "Data columns (total 6 columns):\n",
      " #   Column  Non-Null Count  Dtype  \n",
      "---  ------  --------------  -----  \n",
      " 0   Date    1258 non-null   object \n",
      " 1   Open    1258 non-null   float64\n",
      " 2   High    1258 non-null   float64\n",
      " 3   Low     1258 non-null   float64\n",
      " 4   Close   1258 non-null   object \n",
      " 5   Volume  1258 non-null   object \n",
      "dtypes: float64(3), object(3)\n",
      "memory usage: 59.1+ KB\n"
     ]
    }
   ],
   "source": [
    "train_df = pd.read_csv('Google_Stock_Price_Train.csv')\n",
    "train_df.info()"
   ]
  },
  {
   "cell_type": "code",
   "execution_count": 3,
   "id": "f1e355d9",
   "metadata": {},
   "outputs": [
    {
     "name": "stdout",
     "output_type": "stream",
     "text": [
      "<class 'pandas.core.frame.DataFrame'>\n",
      "RangeIndex: 20 entries, 0 to 19\n",
      "Data columns (total 6 columns):\n",
      " #   Column  Non-Null Count  Dtype  \n",
      "---  ------  --------------  -----  \n",
      " 0   Date    20 non-null     object \n",
      " 1   Open    20 non-null     float64\n",
      " 2   High    20 non-null     float64\n",
      " 3   Low     20 non-null     float64\n",
      " 4   Close   20 non-null     float64\n",
      " 5   Volume  20 non-null     object \n",
      "dtypes: float64(4), object(2)\n",
      "memory usage: 1.1+ KB\n"
     ]
    }
   ],
   "source": [
    "test_df = pd.read_csv('Google_Stock_Price_Test.csv')\n",
    "test_df.info()"
   ]
  },
  {
   "cell_type": "code",
   "execution_count": 4,
   "id": "e39cfb11",
   "metadata": {},
   "outputs": [
    {
     "data": {
      "text/plain": [
       "(1258, 1)"
      ]
     },
     "execution_count": 4,
     "metadata": {},
     "output_type": "execute_result"
    }
   ],
   "source": [
    "train = train_df.loc[:,[\"Open\"]].values\n",
    "train.shape"
   ]
  },
  {
   "cell_type": "code",
   "execution_count": 5,
   "id": "d4e4cd22",
   "metadata": {},
   "outputs": [],
   "source": [
    "from sklearn.preprocessing import MinMaxScaler\n",
    "scaler = MinMaxScaler()\n",
    "train_scaled = scaler.fit_transform(train)"
   ]
  },
  {
   "cell_type": "code",
   "execution_count": 6,
   "id": "7758cc24",
   "metadata": {},
   "outputs": [
    {
     "data": {
      "image/png": "[encoded data removed]",
      "text/plain": [
       "<Figure size 432x288 with 1 Axes>"
      ]
     },
     "metadata": {
      "needs_background": "light"
     },
     "output_type": "display_data"
    }
   ],
   "source": [
    "plt.plot(train_scaled)\n",
    "plt.ylabel(\"Standardized Values\")\n",
    "plt.xlabel(\"Time->\")\n",
    "plt.show()"
   ]
  },
  {
   "cell_type": "code",
   "execution_count": 7,
   "id": "354f8225",
   "metadata": {},
   "outputs": [],
   "source": [
    "x_train = []\n",
    "y_train = []\n",
    "time = 60\n",
    "for i in range(60,train_scaled.shape[0]):\n",
    "    x_train.append(train_scaled[i-60:i,0])\n",
    "    y_train.append(train_scaled[i,0])\n",
    "x_train = np.array(x_train)\n",
    "y_train = np.array(y_train)"
   ]
  },
  {
   "cell_type": "code",
   "execution_count": 8,
   "id": "0dab89ae",
   "metadata": {},
   "outputs": [
    {
     "data": {
      "text/plain": [
       "((1198, 60), (1198,))"
      ]
     },
     "execution_count": 8,
     "metadata": {},
     "output_type": "execute_result"
    }
   ],
   "source": [
    "x_train.shape,y_train.shape"
   ]
  },
  {
   "cell_type": "code",
   "execution_count": 9,
   "id": "975e1249",
   "metadata": {},
   "outputs": [
    {
     "data": {
      "text/plain": [
       "(1198, 60, 1)"
      ]
     },
     "execution_count": 9,
     "metadata": {},
     "output_type": "execute_result"
    }
   ],
   "source": [
    "x_train = np.reshape(x_train,newshape=(x_train.shape[0],x_train.shape[1],1))\n",
    "x_train.shape"
   ]
  },
  {
   "cell_type": "code",
   "execution_count": 12,
   "id": "32a34791",
   "metadata": {},
   "outputs": [],
   "source": [
    "\n",
    "from keras.models import Sequential\n",
    "from keras.layers import Dense, SimpleRNN,Dropout,LSTM"
   ]
  },
  {
   "cell_type": "code",
   "execution_count": 14,
   "id": "a27e7d32",
   "metadata": {},
   "outputs": [
    {
     "name": "stdout",
     "output_type": "stream",
     "text": [
      "Model: \"sequential_2\"\n",
      "_________________________________________________________________\n",
      " Layer (type)                Output Shape              Param #   \n",
      "=================================================================\n",
      " lstm (LSTM)                 (None, 60, 50)            10400     \n",
      "                                                                 \n",
      " lstm_1 (LSTM)               (None, 50)                20200     \n",
      "                                                                 \n",
      " dense (Dense)               (None, 1)                 51        \n",
      "                                                                 \n",
      "=================================================================\n",
      "Total params: 30,651\n",
      "Trainable params: 30,651\n",
      "Non-trainable params: 0\n",
      "_________________________________________________________________\n"
     ]
    }
   ],
   "source": [
    "model = Sequential()\n",
    "model.add(LSTM(units=50, return_sequences=True, input_shape=(x_train.shape[1], 1)))\n",
    "model.add(LSTM(units=50))\n",
    "model.add(Dense(units=1))\n",
    "model.compile(optimizer='adam', loss='mean_squared_error')\n",
    "model.summary()"
   ]
  },
  {
   "cell_type": "code",
   "execution_count": 15,
   "id": "52c93135",
   "metadata": {},
   "outputs": [
    {
     "name": "stdout",
     "output_type": "stream",
     "text": [
      "Epoch 1/100\n",
      "38/38 [==============================] - 14s 149ms/step - loss: 0.0295 - val_loss: 0.0051\n",
      "Epoch 2/100\n",
      "38/38 [==============================] - 3s 91ms/step - loss: 0.0016 - val_loss: 0.0010\n",
      "Epoch 3/100\n",
      "38/38 [==============================] - 3s 92ms/step - loss: 0.0012 - val_loss: 0.0011\n",
      "Epoch 4/100\n",
      "38/38 [==============================] - 4s 95ms/step - loss: 0.0012 - val_loss: 9.6497e-04\n",
      "Epoch 5/100\n",
      "38/38 [==============================] - 4s 94ms/step - loss: 0.0011 - val_loss: 0.0013\n",
      "Epoch 6/100\n",
      "38/38 [==============================] - 3s 91ms/step - loss: 0.0011 - val_loss: 8.9062e-04\n",
      "Epoch 7/100\n",
      "38/38 [==============================] - 3s 91ms/step - loss: 0.0011 - val_loss: 0.0012\n",
      "Epoch 8/100\n",
      "38/38 [==============================] - 3s 92ms/step - loss: 0.0011 - val_loss: 0.0010\n",
      "Epoch 9/100\n",
      "38/38 [==============================] - 4s 92ms/step - loss: 0.0010 - val_loss: 0.0010\n",
      "Epoch 10/100\n",
      "38/38 [==============================] - 3s 91ms/step - loss: 0.0010 - val_loss: 8.7614e-04\n",
      "Epoch 11/100\n",
      "38/38 [==============================] - 3s 88ms/step - loss: 9.7812e-04 - val_loss: 0.0010\n",
      "Epoch 12/100\n",
      "38/38 [==============================] - 3s 90ms/step - loss: 9.2790e-04 - val_loss: 8.1241e-04\n",
      "Epoch 13/100\n",
      "38/38 [==============================] - 4s 93ms/step - loss: 9.1022e-04 - val_loss: 8.1185e-04\n",
      "Epoch 14/100\n",
      "38/38 [==============================] - 3s 92ms/step - loss: 9.6301e-04 - val_loss: 7.8419e-04\n",
      "Epoch 15/100\n",
      "38/38 [==============================] - 3s 90ms/step - loss: 9.0254e-04 - val_loss: 8.7271e-04\n",
      "Epoch 16/100\n",
      "38/38 [==============================] - 3s 91ms/step - loss: 9.3683e-04 - val_loss: 7.8104e-04\n",
      "Epoch 17/100\n",
      "38/38 [==============================] - 3s 90ms/step - loss: 8.3741e-04 - val_loss: 9.6396e-04\n",
      "Epoch 18/100\n",
      "38/38 [==============================] - 3s 90ms/step - loss: 8.8583e-04 - val_loss: 7.3161e-04\n",
      "Epoch 19/100\n",
      "38/38 [==============================] - 3s 90ms/step - loss: 8.3868e-04 - val_loss: 0.0012\n",
      "Epoch 20/100\n",
      "38/38 [==============================] - 3s 92ms/step - loss: 8.4133e-04 - val_loss: 7.9147e-04\n",
      "Epoch 21/100\n",
      "38/38 [==============================] - 3s 90ms/step - loss: 7.9154e-04 - val_loss: 9.3471e-04\n",
      "Epoch 22/100\n",
      "38/38 [==============================] - 3s 91ms/step - loss: 8.4686e-04 - val_loss: 7.3771e-04\n",
      "Epoch 23/100\n",
      "38/38 [==============================] - 3s 91ms/step - loss: 7.5938e-04 - val_loss: 7.3686e-04\n",
      "Epoch 24/100\n",
      "38/38 [==============================] - 3s 89ms/step - loss: 8.0918e-04 - val_loss: 8.6533e-04\n",
      "Epoch 25/100\n",
      "38/38 [==============================] - 3s 90ms/step - loss: 7.4071e-04 - val_loss: 7.8803e-04\n",
      "Epoch 26/100\n",
      "38/38 [==============================] - 4s 93ms/step - loss: 8.1068e-04 - val_loss: 7.8879e-04\n",
      "Epoch 27/100\n",
      "38/38 [==============================] - 3s 91ms/step - loss: 8.5480e-04 - val_loss: 7.7100e-04\n",
      "Epoch 28/100\n",
      "38/38 [==============================] - 3s 90ms/step - loss: 6.8866e-04 - val_loss: 6.0963e-04\n",
      "Epoch 29/100\n",
      "38/38 [==============================] - 3s 90ms/step - loss: 6.9761e-04 - val_loss: 7.0765e-04\n",
      "Epoch 30/100\n",
      "38/38 [==============================] - 3s 89ms/step - loss: 6.5970e-04 - val_loss: 5.9520e-04\n",
      "Epoch 31/100\n",
      "38/38 [==============================] - 3s 90ms/step - loss: 6.6764e-04 - val_loss: 8.3661e-04\n",
      "Epoch 32/100\n",
      "38/38 [==============================] - 3s 91ms/step - loss: 7.3844e-04 - val_loss: 0.0019\n",
      "Epoch 33/100\n",
      "38/38 [==============================] - 3s 92ms/step - loss: 6.8099e-04 - val_loss: 7.4455e-04\n",
      "Epoch 34/100\n",
      "38/38 [==============================] - 4s 92ms/step - loss: 5.9406e-04 - val_loss: 6.2164e-04\n",
      "Epoch 35/100\n",
      "38/38 [==============================] - 3s 90ms/step - loss: 6.0665e-04 - val_loss: 7.6671e-04\n",
      "Epoch 36/100\n",
      "38/38 [==============================] - 3s 91ms/step - loss: 5.7602e-04 - val_loss: 6.1224e-04\n",
      "Epoch 37/100\n",
      "38/38 [==============================] - 3s 90ms/step - loss: 6.0471e-04 - val_loss: 6.0653e-04\n",
      "Epoch 38/100\n",
      "38/38 [==============================] - 3s 90ms/step - loss: 5.7799e-04 - val_loss: 0.0013\n",
      "Epoch 39/100\n",
      "38/38 [==============================] - 3s 90ms/step - loss: 6.0941e-04 - val_loss: 6.1843e-04\n",
      "Epoch 40/100\n",
      "38/38 [==============================] - 3s 89ms/step - loss: 5.6556e-04 - val_loss: 5.5359e-04\n",
      "Epoch 41/100\n",
      "38/38 [==============================] - 4s 92ms/step - loss: 5.0373e-04 - val_loss: 4.6985e-04\n",
      "Epoch 42/100\n",
      "38/38 [==============================] - 3s 91ms/step - loss: 4.9476e-04 - val_loss: 4.6129e-04\n",
      "Epoch 43/100\n",
      "38/38 [==============================] - 4s 98ms/step - loss: 4.7457e-04 - val_loss: 4.5844e-04\n",
      "Epoch 44/100\n",
      "38/38 [==============================] - 4s 93ms/step - loss: 5.4384e-04 - val_loss: 4.6126e-04\n",
      "Epoch 45/100\n",
      "38/38 [==============================] - 3s 90ms/step - loss: 4.9617e-04 - val_loss: 6.1558e-04\n",
      "Epoch 46/100\n",
      "38/38 [==============================] - 3s 90ms/step - loss: 4.3937e-04 - val_loss: 4.3378e-04\n",
      "Epoch 47/100\n",
      "38/38 [==============================] - 3s 91ms/step - loss: 4.8312e-04 - val_loss: 7.5578e-04\n",
      "Epoch 48/100\n",
      "38/38 [==============================] - 3s 90ms/step - loss: 4.7307e-04 - val_loss: 4.3610e-04\n",
      "Epoch 49/100\n",
      "38/38 [==============================] - 3s 89ms/step - loss: 4.3697e-04 - val_loss: 5.4796e-04\n",
      "Epoch 50/100\n",
      "38/38 [==============================] - 4s 94ms/step - loss: 4.1003e-04 - val_loss: 4.1724e-04\n",
      "Epoch 51/100\n",
      "38/38 [==============================] - 4s 94ms/step - loss: 4.8472e-04 - val_loss: 5.4835e-04\n",
      "Epoch 52/100\n",
      "38/38 [==============================] - 4s 94ms/step - loss: 4.6693e-04 - val_loss: 6.3204e-04\n",
      "Epoch 53/100\n",
      "38/38 [==============================] - 3s 91ms/step - loss: 4.1391e-04 - val_loss: 3.8713e-04\n",
      "Epoch 54/100\n",
      "38/38 [==============================] - 3s 90ms/step - loss: 3.8249e-04 - val_loss: 5.3613e-04\n",
      "Epoch 55/100\n",
      "38/38 [==============================] - 3s 89ms/step - loss: 3.7169e-04 - val_loss: 4.2706e-04\n",
      "Epoch 56/100\n",
      "38/38 [==============================] - 3s 89ms/step - loss: 4.1768e-04 - val_loss: 4.1052e-04\n",
      "Epoch 57/100\n",
      "38/38 [==============================] - 4s 93ms/step - loss: 3.7409e-04 - val_loss: 3.6132e-04\n",
      "Epoch 58/100\n",
      "38/38 [==============================] - 4s 93ms/step - loss: 3.8417e-04 - val_loss: 4.8209e-04\n",
      "Epoch 59/100\n",
      "38/38 [==============================] - 3s 92ms/step - loss: 3.7865e-04 - val_loss: 3.4572e-04\n",
      "Epoch 60/100\n",
      "38/38 [==============================] - 4s 95ms/step - loss: 3.4941e-04 - val_loss: 3.4454e-04\n",
      "Epoch 61/100\n",
      "38/38 [==============================] - 4s 95ms/step - loss: 3.5757e-04 - val_loss: 9.4757e-04\n",
      "Epoch 62/100\n",
      "38/38 [==============================] - 3s 91ms/step - loss: 3.8498e-04 - val_loss: 3.5677e-04\n",
      "Epoch 63/100\n",
      "38/38 [==============================] - 4s 92ms/step - loss: 3.3773e-04 - val_loss: 5.3884e-04\n",
      "Epoch 64/100\n",
      "38/38 [==============================] - 3s 91ms/step - loss: 3.3402e-04 - val_loss: 5.0147e-04\n",
      "Epoch 65/100\n",
      "38/38 [==============================] - 4s 95ms/step - loss: 3.7289e-04 - val_loss: 9.3916e-04\n",
      "Epoch 66/100\n",
      "38/38 [==============================] - 3s 91ms/step - loss: 4.2236e-04 - val_loss: 3.3419e-04\n",
      "Epoch 67/100\n",
      "38/38 [==============================] - 4s 93ms/step - loss: 3.3588e-04 - val_loss: 3.4361e-04\n",
      "Epoch 68/100\n",
      "38/38 [==============================] - 4s 98ms/step - loss: 3.3346e-04 - val_loss: 6.4171e-04\n",
      "Epoch 69/100\n",
      "38/38 [==============================] - 4s 97ms/step - loss: 3.4169e-04 - val_loss: 4.1425e-04\n",
      "Epoch 70/100\n",
      "38/38 [==============================] - 4s 98ms/step - loss: 3.3824e-04 - val_loss: 6.0160e-04\n",
      "Epoch 71/100\n",
      "38/38 [==============================] - 4s 95ms/step - loss: 3.8781e-04 - val_loss: 3.1116e-04\n",
      "Epoch 72/100\n",
      "38/38 [==============================] - 4s 92ms/step - loss: 3.0848e-04 - val_loss: 3.3778e-04\n",
      "Epoch 73/100\n",
      "38/38 [==============================] - 4s 94ms/step - loss: 3.2748e-04 - val_loss: 4.5364e-04\n",
      "Epoch 74/100\n",
      "38/38 [==============================] - 4s 93ms/step - loss: 3.2242e-04 - val_loss: 3.6934e-04\n",
      "Epoch 75/100\n",
      "38/38 [==============================] - 3s 90ms/step - loss: 4.2655e-04 - val_loss: 3.6451e-04\n",
      "Epoch 76/100\n",
      "38/38 [==============================] - 4s 94ms/step - loss: 3.0733e-04 - val_loss: 3.4530e-04\n"
     ]
    },
    {
     "name": "stdout",
     "output_type": "stream",
     "text": [
      "Epoch 77/100\n",
      "38/38 [==============================] - 4s 92ms/step - loss: 3.5812e-04 - val_loss: 3.8665e-04\n",
      "Epoch 78/100\n",
      "38/38 [==============================] - 3s 91ms/step - loss: 3.0521e-04 - val_loss: 3.1767e-04\n",
      "Epoch 79/100\n",
      "38/38 [==============================] - 4s 92ms/step - loss: 3.2018e-04 - val_loss: 3.3024e-04\n",
      "Epoch 80/100\n",
      "38/38 [==============================] - 4s 93ms/step - loss: 3.2867e-04 - val_loss: 3.1090e-04\n",
      "Epoch 81/100\n",
      "38/38 [==============================] - 4s 93ms/step - loss: 3.1117e-04 - val_loss: 3.7082e-04\n",
      "Epoch 82/100\n",
      "38/38 [==============================] - 3s 89ms/step - loss: 3.0171e-04 - val_loss: 6.2488e-04\n",
      "Epoch 83/100\n",
      "38/38 [==============================] - 4s 92ms/step - loss: 3.0588e-04 - val_loss: 4.8478e-04\n",
      "Epoch 84/100\n",
      "38/38 [==============================] - 3s 91ms/step - loss: 3.1403e-04 - val_loss: 3.8703e-04\n",
      "Epoch 85/100\n",
      "38/38 [==============================] - 3s 90ms/step - loss: 4.3576e-04 - val_loss: 3.9741e-04\n",
      "Epoch 86/100\n",
      "38/38 [==============================] - 4s 105ms/step - loss: 2.9843e-04 - val_loss: 4.5661e-04\n",
      "Epoch 87/100\n",
      "38/38 [==============================] - 5s 122ms/step - loss: 3.1220e-04 - val_loss: 3.2079e-04\n",
      "Epoch 88/100\n",
      "38/38 [==============================] - 4s 98ms/step - loss: 2.9499e-04 - val_loss: 3.5750e-04\n",
      "Epoch 89/100\n",
      "38/38 [==============================] - 3s 87ms/step - loss: 2.9759e-04 - val_loss: 6.9968e-04\n",
      "Epoch 90/100\n",
      "38/38 [==============================] - 4s 95ms/step - loss: 3.0839e-04 - val_loss: 6.5736e-04\n",
      "Epoch 91/100\n",
      "38/38 [==============================] - 6s 159ms/step - loss: 3.5981e-04 - val_loss: 6.3963e-04\n",
      "Epoch 92/100\n",
      "38/38 [==============================] - 6s 167ms/step - loss: 3.9751e-04 - val_loss: 7.6483e-04\n",
      "Epoch 93/100\n",
      "38/38 [==============================] - 5s 136ms/step - loss: 3.0924e-04 - val_loss: 3.2766e-04\n",
      "Epoch 94/100\n",
      "38/38 [==============================] - 5s 125ms/step - loss: 2.9813e-04 - val_loss: 3.7890e-04\n",
      "Epoch 95/100\n",
      "38/38 [==============================] - 5s 121ms/step - loss: 2.9407e-04 - val_loss: 4.6029e-04\n",
      "Epoch 96/100\n",
      "38/38 [==============================] - 4s 94ms/step - loss: 3.3633e-04 - val_loss: 6.0625e-04\n",
      "Epoch 97/100\n",
      "38/38 [==============================] - 3s 87ms/step - loss: 3.0473e-04 - val_loss: 3.1261e-04\n",
      "Epoch 98/100\n",
      "38/38 [==============================] - 4s 95ms/step - loss: 2.8433e-04 - val_loss: 5.7318e-04\n",
      "Epoch 99/100\n",
      "38/38 [==============================] - 4s 95ms/step - loss: 3.0319e-04 - val_loss: 3.6766e-04\n",
      "Epoch 100/100\n",
      "38/38 [==============================] - 4s 104ms/step - loss: 2.9112e-04 - val_loss: 7.0598e-04\n"
     ]
    },
    {
     "data": {
      "text/plain": [
       "<keras.callbacks.History at 0x1dea7408310>"
      ]
     },
     "execution_count": 15,
     "metadata": {},
     "output_type": "execute_result"
    }
   ],
   "source": [
    "model.fit(x_train,y_train,epochs=100,batch_size=30,validation_split=0.05)"
   ]
  },
  {
   "cell_type": "code",
   "execution_count": 16,
   "id": "2eca5a61",
   "metadata": {},
   "outputs": [
    {
     "data": {
      "text/plain": [
       "(80,)"
      ]
     },
     "execution_count": 16,
     "metadata": {},
     "output_type": "execute_result"
    }
   ],
   "source": [
    "data = pd.concat((train_df['Open'],test_df['Open']),axis=0)\n",
    "test_input = data.iloc[len(data) - len(test_df) - time : ].values\n",
    "test_input.shape"
   ]
  },
  {
   "cell_type": "code",
   "execution_count": 17,
   "id": "23ce2428",
   "metadata": {},
   "outputs": [
    {
     "data": {
      "text/plain": [
       "(80, 1)"
      ]
     },
     "execution_count": 17,
     "metadata": {},
     "output_type": "execute_result"
    }
   ],
   "source": [
    "test_input = test_input.reshape(-1,1)\n",
    "test_input.shape"
   ]
  },
  {
   "cell_type": "code",
   "execution_count": 18,
   "id": "83110ce2",
   "metadata": {},
   "outputs": [],
   "source": [
    "test_scaled = scaler.transform(test_input)"
   ]
  },
  {
   "cell_type": "code",
   "execution_count": 19,
   "id": "5197dd16",
   "metadata": {},
   "outputs": [
    {
     "data": {
      "text/plain": [
       "(20, 60)"
      ]
     },
     "execution_count": 19,
     "metadata": {},
     "output_type": "execute_result"
    }
   ],
   "source": [
    "x_test = []\n",
    "for i in range(time,test_scaled.shape[0]):\n",
    "    x_test.append(test_scaled[i - time: i,0 ])\n",
    "x_test = np.array(x_test)\n",
    "x_test.shape"
   ]
  },
  {
   "cell_type": "code",
   "execution_count": 20,
   "id": "6b01412e",
   "metadata": {},
   "outputs": [
    {
     "data": {
      "text/plain": [
       "(20, 60, 1)"
      ]
     },
     "execution_count": 20,
     "metadata": {},
     "output_type": "execute_result"
    }
   ],
   "source": [
    "x_test = np.reshape(x_test,newshape=(x_test.shape[0],x_test.shape[1],1))\n",
    "x_test.shape"
   ]
  },
  {
   "cell_type": "code",
   "execution_count": 21,
   "id": "d8b3354c",
   "metadata": {},
   "outputs": [],
   "source": [
    "y_test = test_df.loc[:,\"Open\"].values"
   ]
  },
  {
   "cell_type": "code",
   "execution_count": 22,
   "id": "d9735a82",
   "metadata": {},
   "outputs": [
    {
     "name": "stdout",
     "output_type": "stream",
     "text": [
      "1/1 [==============================] - 2s 2s/step\n"
     ]
    }
   ],
   "source": [
    "y_pred = model.predict(x_test)"
   ]
  },
  {
   "cell_type": "code",
   "execution_count": 23,
   "id": "b3312c72",
   "metadata": {},
   "outputs": [],
   "source": [
    "y_pred = scaler.inverse_transform(y_pred)"
   ]
  },
  {
   "cell_type": "code",
   "execution_count": 24,
   "id": "e983a84c",
   "metadata": {},
   "outputs": [
    {
     "name": "stdout",
     "output_type": "stream",
     "text": [
      "1/1 [==============================] - 2s 2s/step - loss: 650700.2500\n"
     ]
    }
   ],
   "source": [
    "output = model.evaluate(x=x_test,y=y_test)"
   ]
  },
  {
   "cell_type": "code",
   "execution_count": 25,
   "id": "4a339cf0",
   "metadata": {},
   "outputs": [
    {
     "data": {
      "image/png": "[encoded data removed]",
      "text/plain": [
       "<Figure size 432x288 with 1 Axes>"
      ]
     },
     "metadata": {
      "needs_background": "light"
     },
     "output_type": "display_data"
    }
   ],
   "source": [
    "plt.plot(y_test, color = 'red', label = 'Real price')\n",
    "plt.plot(y_pred, color = 'blue', label = 'Predicted price')\n",
    "\n",
    "plt.title('Google Stock price prediction')\n",
    "plt.xlabel('Time')\n",
    "plt.ylabel('Price')\n",
    "plt.legend()\n",
    "plt.show()\n"
   ]
  },
  {
   "cell_type": "code",
   "execution_count": 26,
   "id": "570cbddc",
   "metadata": {},
   "outputs": [
    {
     "data": {
      "text/plain": [
       "60"
      ]
     },
     "execution_count": 26,
     "metadata": {},
     "output_type": "execute_result"
    }
   ],
   "source": [
    "time"
   ]
  },
  {
   "cell_type": "code",
   "execution_count": null,
   "id": "70d27229",
   "metadata": {},
   "outputs": [],
   "source": []
  },
  {
   "cell_type": "code",
   "execution_count": null,
   "id": "83288384",
   "metadata": {},
   "outputs": [],
   "source": []
  }
 ],
 "metadata": {
  "kernelspec": {
   "display_name": "Python 3 (ipykernel)",
   "language": "python",
   "name": "python3"
  },
  "language_info": {
   "codemirror_mode": {
    "name": "ipython",
    "version": 3
   },
   "file_extension": ".py",
   "mimetype": "text/x-python",
   "name": "python",
   "nbconvert_exporter": "python",
   "pygments_lexer": "ipython3",
   "version": "3.9.7"
  }
 },
 "nbformat": 4,
 "nbformat_minor": 5
}
